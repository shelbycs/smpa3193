{
 "cells": [
  {
   "cell_type": "code",
   "execution_count": 12,
   "metadata": {
    "collapsed": false
   },
   "outputs": [
    {
     "name": "stdout",
     "output_type": "stream",
     "text": [
      "| column          | data_type |\n",
      "| --------------- | --------- |\n",
      "| updated_at      | DateTime  |\n",
      "| id              | Date      |\n",
      "| start_date      | DateTime  |\n",
      "| end_date        | DateTime  |\n",
      "| election_type   | Text      |\n",
      "| result_type     | Text      |\n",
      "| special         | Boolean   |\n",
      "| office          | Text      |\n",
      "| district        | Text      |\n",
      "| name_raw        | Text      |\n",
      "| last_name       | Boolean   |\n",
      "| first_name      | Boolean   |\n",
      "| suffix          | Boolean   |\n",
      "| middle_name     | Boolean   |\n",
      "| party           | Text      |\n",
      "| jurisdiction    | Text      |\n",
      "| division        | Text      |\n",
      "| votes           | Number    |\n",
      "| votes_type      | Boolean   |\n",
      "| total_votes     | Boolean   |\n",
      "| winner          | Boolean   |\n",
      "| write_in        | Boolean   |\n",
      "| year            | Number    |\n",
      "| election_day    | Number    |\n",
      "| absentee        | Number    |\n",
      "| second_absentee | Number    |\n",
      "| provisional     | Number    |\n",
      "\n",
      "jurisdiction    county_total\n",
      "Montgomery         1,954,822 ▓░░░░░░░░░░░░░░░░░░░░░░░░░░░░░░░░░░░░░░░░░░░░░░░░░ \n",
      "Baltimore          1,851,809 ▓░░░░░░░░░░░░░░░░░░░░░░░░░░░░░░░░░░░░░░░░░░░░░░    \n",
      "Prince George's    1,501,125 ▓░░░░░░░░░░░░░░░░░░░░░░░░░░░░░░░░░░░░░░            \n",
      "Anne Arundel       1,240,645 ▓░░░░░░░░░░░░░░░░░░░░░░░░░░░░░░░                   \n",
      "Baltimore City       979,608 ▓░░░░░░░░░░░░░░░░░░░░░░░░                          \n",
      "Howard               749,280 ▓░░░░░░░░░░░░░░░░░░░                               \n",
      "Harford              615,680 ▓░░░░░░░░░░░░░░░                                   \n",
      "Frederick            544,177 ▓░░░░░░░░░░░░░░                                    \n",
      "Carroll              466,467 ▓░░░░░░░░░░░░                                      \n",
      "Charles              328,887 ▓░░░░░░░░                                          \n",
      "                             +-----------+------------+------------------------+\n",
      "                             0        500,000     1,000,000            2,000,000\n",
      "| column          | data_type |\n",
      "| --------------- | --------- |\n",
      "| updated_at      | DateTime  |\n",
      "| id              | Date      |\n",
      "| start_date      | DateTime  |\n",
      "| end_date        | DateTime  |\n",
      "| election_type   | Text      |\n",
      "| result_type     | Text      |\n",
      "| special         | Boolean   |\n",
      "| office          | Text      |\n",
      "| district        | Text      |\n",
      "| name_raw        | Text      |\n",
      "| last_name       | Boolean   |\n",
      "| first_name      | Boolean   |\n",
      "| suffix          | Boolean   |\n",
      "| middle_name     | Boolean   |\n",
      "| party           | Text      |\n",
      "| jurisdiction    | Text      |\n",
      "| division        | Text      |\n",
      "| votes           | Number    |\n",
      "| votes_type      | Boolean   |\n",
      "| total_votes     | Boolean   |\n",
      "| winner          | Boolean   |\n",
      "| write_in        | Boolean   |\n",
      "| year            | Number    |\n",
      "| election_day    | Number    |\n",
      "| absentee        | Number    |\n",
      "| second_absentee | Number    |\n",
      "| provisional     | Number    |\n",
      "\n"
     ]
    },
    {
     "ename": "KeyError",
     "evalue": "'jurisdiction'",
     "output_type": "error",
     "traceback": [
      "\u001b[0;31m---------------------------------------------------------------------------\u001b[0m",
      "\u001b[0;31mKeyError\u001b[0m                                  Traceback (most recent call last)",
      "\u001b[0;32m<ipython-input-12-0922d2e4e7b8>\u001b[0m in \u001b[0;36m<module>\u001b[0;34m()\u001b[0m\n\u001b[1;32m     16\u001b[0m \u001b[0mtotals\u001b[0m \u001b[0;34m=\u001b[0m \u001b[0mby_county\u001b[0m\u001b[0;34m.\u001b[0m\u001b[0maggregate\u001b[0m\u001b[0;34m(\u001b[0m\u001b[0;34m[\u001b[0m\u001b[0;34m(\u001b[0m\u001b[0;34m'county_total'\u001b[0m\u001b[0;34m,\u001b[0m \u001b[0magate\u001b[0m\u001b[0;34m.\u001b[0m\u001b[0mSum\u001b[0m\u001b[0;34m(\u001b[0m\u001b[0;34m'votes'\u001b[0m\u001b[0;34m)\u001b[0m\u001b[0;34m)\u001b[0m\u001b[0;34m]\u001b[0m\u001b[0;34m)\u001b[0m\u001b[0;34m\u001b[0m\u001b[0m\n\u001b[1;32m     17\u001b[0m \u001b[0mtotals\u001b[0m \u001b[0;34m=\u001b[0m \u001b[0mtotals\u001b[0m\u001b[0;34m.\u001b[0m\u001b[0morder_by\u001b[0m\u001b[0;34m(\u001b[0m\u001b[0;34m'county_total'\u001b[0m\u001b[0;34m,\u001b[0m \u001b[0mreverse\u001b[0m\u001b[0;34m=\u001b[0m\u001b[0mTrue\u001b[0m\u001b[0;34m)\u001b[0m\u001b[0;34m\u001b[0m\u001b[0m\n\u001b[0;32m---> 18\u001b[0;31m \u001b[0mtotals\u001b[0m\u001b[0;34m.\u001b[0m\u001b[0mlimit\u001b[0m\u001b[0;34m(\u001b[0m\u001b[0;36m10\u001b[0m\u001b[0;34m)\u001b[0m\u001b[0;34m.\u001b[0m\u001b[0mprint_bars\u001b[0m\u001b[0;34m(\u001b[0m\u001b[0;34m'jurisdiction'\u001b[0m\u001b[0;34m,\u001b[0m \u001b[0;34m'county_total'\u001b[0m\u001b[0;34m,\u001b[0m \u001b[0mwidth\u001b[0m\u001b[0;34m=\u001b[0m\u001b[0;36m80\u001b[0m\u001b[0;34m)\u001b[0m\u001b[0;34m\u001b[0m\u001b[0m\n\u001b[0m",
      "\u001b[0;32m/Users/shelbysabat1new/Desktop/smpa3193/exercises/lib/python2.7/site-packages/agate/table/print_bars.pyc\u001b[0m in \u001b[0;36mprint_bars\u001b[0;34m(self, label_column_name, value_column_name, domain, width, output, printable)\u001b[0m\n\u001b[1;32m     57\u001b[0m \u001b[0;34m\u001b[0m\u001b[0m\n\u001b[1;32m     58\u001b[0m     \u001b[0my_label\u001b[0m \u001b[0;34m=\u001b[0m \u001b[0mlabel_column_name\u001b[0m\u001b[0;34m\u001b[0m\u001b[0m\n\u001b[0;32m---> 59\u001b[0;31m     \u001b[0mlabel_column\u001b[0m \u001b[0;34m=\u001b[0m \u001b[0mself\u001b[0m\u001b[0;34m.\u001b[0m\u001b[0m_columns\u001b[0m\u001b[0;34m[\u001b[0m\u001b[0mlabel_column_name\u001b[0m\u001b[0;34m]\u001b[0m\u001b[0;34m\u001b[0m\u001b[0m\n\u001b[0m\u001b[1;32m     60\u001b[0m \u001b[0;34m\u001b[0m\u001b[0m\n\u001b[1;32m     61\u001b[0m     \u001b[0;31m# if not isinstance(label_column.data_type, Text):\u001b[0m\u001b[0;34m\u001b[0m\u001b[0;34m\u001b[0m\u001b[0m\n",
      "\u001b[0;32m/Users/shelbysabat1new/Desktop/smpa3193/exercises/lib/python2.7/site-packages/agate/mapped_sequence.pyc\u001b[0m in \u001b[0;36m__getitem__\u001b[0;34m(self, key)\u001b[0m\n\u001b[1;32m     92\u001b[0m             \u001b[0;32mreturn\u001b[0m \u001b[0mself\u001b[0m\u001b[0;34m.\u001b[0m\u001b[0mvalues\u001b[0m\u001b[0;34m(\u001b[0m\u001b[0;34m)\u001b[0m\u001b[0;34m[\u001b[0m\u001b[0mkey\u001b[0m\u001b[0;34m]\u001b[0m\u001b[0;34m\u001b[0m\u001b[0m\n\u001b[1;32m     93\u001b[0m         \u001b[0;32melse\u001b[0m\u001b[0;34m:\u001b[0m\u001b[0;34m\u001b[0m\u001b[0m\n\u001b[0;32m---> 94\u001b[0;31m             \u001b[0;32mreturn\u001b[0m \u001b[0mself\u001b[0m\u001b[0;34m.\u001b[0m\u001b[0mdict\u001b[0m\u001b[0;34m(\u001b[0m\u001b[0;34m)\u001b[0m\u001b[0;34m[\u001b[0m\u001b[0mkey\u001b[0m\u001b[0;34m]\u001b[0m\u001b[0;34m\u001b[0m\u001b[0m\n\u001b[0m\u001b[1;32m     95\u001b[0m \u001b[0;34m\u001b[0m\u001b[0m\n\u001b[1;32m     96\u001b[0m     \u001b[0;32mdef\u001b[0m \u001b[0m__setitem__\u001b[0m\u001b[0;34m(\u001b[0m\u001b[0mself\u001b[0m\u001b[0;34m,\u001b[0m \u001b[0mkey\u001b[0m\u001b[0;34m,\u001b[0m \u001b[0mvalue\u001b[0m\u001b[0;34m)\u001b[0m\u001b[0;34m:\u001b[0m\u001b[0;34m\u001b[0m\u001b[0m\n",
      "\u001b[0;31mKeyError\u001b[0m: 'jurisdiction'"
     ]
    }
   ],
   "source": [
    "import agate\n",
    "results = agate.Table.from_csv(\"mdcounty2014.csv\")\n",
    "print(results)\n",
    "row = results.rows[0]\n",
    "row['jurisdiction']\n",
    "by_county = results.group_by('jurisdiction')\n",
    "totals = by_county.aggregate([('county_total', agate.Sum('votes'))])\n",
    "totals = totals.order_by('county_total', reverse=True)\n",
    "totals.limit(10).print_bars('jurisdiction', 'county_total', width=80)\n",
    "import agate\n",
    "results = agate.Table.from_csv(\"mdcounty2014.csv\")\n",
    "print(results)\n",
    "row = results.rows[0]\n",
    "row['jurisdiction']\n",
    "by_county = results.group_by('name_raw')\n",
    "totals = by_county.aggregate([('county_total', agate.Sum('votes'))])\n",
    "totals = totals.order_by('county_total', reverse=True)\n",
    "totals.limit(10).print_bars('jurisdiction', 'county_total', width=80)\n"
   ]
  }
 ],
 "metadata": {
  "kernelspec": {
   "display_name": "Python 2",
   "language": "python",
   "name": "python2"
  },
  "language_info": {
   "codemirror_mode": {
    "name": "ipython",
    "version": 2
   },
   "file_extension": ".py",
   "mimetype": "text/x-python",
   "name": "python",
   "nbconvert_exporter": "python",
   "pygments_lexer": "ipython2",
   "version": "2.7.10"
  }
 },
 "nbformat": 4,
 "nbformat_minor": 2
}
